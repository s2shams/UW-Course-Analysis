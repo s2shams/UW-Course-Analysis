{
 "cells": [
  {
   "cell_type": "code",
   "execution_count": 1,
   "metadata": {},
   "outputs": [],
   "source": [
    "import pandas as pd"
   ]
  },
  {
   "cell_type": "markdown",
   "metadata": {},
   "source": [
    "Here is a list of questions I'd like to solve during this project.\n",
    "\n",
    "\n",
    "1. Is there a trend behind the courses with little to no ratings?\n",
    "\n",
    "2. What department seems to use uwflow the most?\n",
    "\n",
    "3. Does the usaage of uwflow become less as you look into higher year courses? i.e 100 vs 200 and so on\n",
    "\n",
    "4. Are users more likely to use uwflow to rate a professor/course they found liked/useful or is it the opposite?\n",
    "\n",
    "5. What department thinks they have the most useful/hardest/liked courses based on the data?\n",
    "\n",
    "6. Is there a correlation between the sentiment of courses and professors within the same faculty?\n",
    "\n",
    "First things first, we'll have to clean up the data and transform it so it's usable. Most of the questions I want to answer are faculty based, so we'll focus on arranging the data in such a manner"
   ]
  },
  {
   "cell_type": "code",
   "execution_count": 3,
   "metadata": {},
   "outputs": [],
   "source": [
    "course_df = pd.read_csv(\"./Course_data.csv\")\n",
    "prof_df = pd.read_csv(\"./Prof_data.csv\")"
   ]
  },
  {
   "cell_type": "code",
   "execution_count": 6,
   "metadata": {},
   "outputs": [
    {
     "data": {
      "text/plain": [
       "(8915, 8)"
      ]
     },
     "execution_count": 6,
     "metadata": {},
     "output_type": "execute_result"
    }
   ],
   "source": []
  },
  {
   "cell_type": "code",
   "execution_count": 7,
   "metadata": {},
   "outputs": [
    {
     "data": {
      "text/html": [
       "<div>\n",
       "<style scoped>\n",
       "    .dataframe tbody tr th:only-of-type {\n",
       "        vertical-align: middle;\n",
       "    }\n",
       "\n",
       "    .dataframe tbody tr th {\n",
       "        vertical-align: top;\n",
       "    }\n",
       "\n",
       "    .dataframe thead th {\n",
       "        text-align: right;\n",
       "    }\n",
       "</style>\n",
       "<table border=\"1\" class=\"dataframe\">\n",
       "  <thead>\n",
       "    <tr style=\"text-align: right;\">\n",
       "      <th></th>\n",
       "      <th>Professor_Name</th>\n",
       "      <th>Course</th>\n",
       "      <th>Liked_%</th>\n",
       "      <th>Professor_Reviews</th>\n",
       "    </tr>\n",
       "  </thead>\n",
       "  <tbody>\n",
       "    <tr>\n",
       "      <th>0</th>\n",
       "      <td>Lori Michelle Case</td>\n",
       "      <td>CS 115</td>\n",
       "      <td>77%</td>\n",
       "      <td>['clear prof', 'Lori is an awesome professor. ...</td>\n",
       "    </tr>\n",
       "    <tr>\n",
       "      <th>1</th>\n",
       "      <td>Naomi Nishimura</td>\n",
       "      <td>CS 115</td>\n",
       "      <td>70%</td>\n",
       "      <td>['Not really engaging but helpful.', 'Definite...</td>\n",
       "    </tr>\n",
       "    <tr>\n",
       "      <th>2</th>\n",
       "      <td>Victoria Sakhnini</td>\n",
       "      <td>CS 115</td>\n",
       "      <td>85%</td>\n",
       "      <td>['Great prof. Explains concepts very well and ...</td>\n",
       "    </tr>\n",
       "    <tr>\n",
       "      <th>3</th>\n",
       "      <td>Troy Vasiga</td>\n",
       "      <td>CS 115</td>\n",
       "      <td>97%</td>\n",
       "      <td>['Elite prof. Makes each and every lecture eng...</td>\n",
       "    </tr>\n",
       "    <tr>\n",
       "      <th>4</th>\n",
       "      <td>Sandy Graham</td>\n",
       "      <td>CS 115</td>\n",
       "      <td>74%</td>\n",
       "      <td>['Clear in her explanations.', \"Her clicker so...</td>\n",
       "    </tr>\n",
       "  </tbody>\n",
       "</table>\n",
       "</div>"
      ],
      "text/plain": [
       "       Professor_Name  Course Liked_%  \\\n",
       "0  Lori Michelle Case  CS 115     77%   \n",
       "1     Naomi Nishimura  CS 115     70%   \n",
       "2   Victoria Sakhnini  CS 115     85%   \n",
       "3         Troy Vasiga  CS 115     97%   \n",
       "4        Sandy Graham  CS 115     74%   \n",
       "\n",
       "                                   Professor_Reviews  \n",
       "0  ['clear prof', 'Lori is an awesome professor. ...  \n",
       "1  ['Not really engaging but helpful.', 'Definite...  \n",
       "2  ['Great prof. Explains concepts very well and ...  \n",
       "3  ['Elite prof. Makes each and every lecture eng...  \n",
       "4  ['Clear in her explanations.', \"Her clicker so...  "
      ]
     },
     "execution_count": 7,
     "metadata": {},
     "output_type": "execute_result"
    }
   ],
   "source": [
    "prof_df.head()"
   ]
  },
  {
   "cell_type": "code",
   "execution_count": 8,
   "metadata": {},
   "outputs": [
    {
     "data": {
      "text/html": [
       "<div>\n",
       "<style scoped>\n",
       "    .dataframe tbody tr th:only-of-type {\n",
       "        vertical-align: middle;\n",
       "    }\n",
       "\n",
       "    .dataframe tbody tr th {\n",
       "        vertical-align: top;\n",
       "    }\n",
       "\n",
       "    .dataframe thead th {\n",
       "        text-align: right;\n",
       "    }\n",
       "</style>\n",
       "<table border=\"1\" class=\"dataframe\">\n",
       "  <thead>\n",
       "    <tr style=\"text-align: right;\">\n",
       "      <th></th>\n",
       "      <th>Course_Code</th>\n",
       "      <th>Course_Name</th>\n",
       "      <th>Number_of_Ratings</th>\n",
       "      <th>Number_of_Comments</th>\n",
       "      <th>Useful</th>\n",
       "      <th>Easy</th>\n",
       "      <th>Liked</th>\n",
       "      <th>Course_Reviews</th>\n",
       "    </tr>\n",
       "  </thead>\n",
       "  <tbody>\n",
       "    <tr>\n",
       "      <th>0</th>\n",
       "      <td>CS 115</td>\n",
       "      <td>Introduction to Computer Science 1</td>\n",
       "      <td>2204</td>\n",
       "      <td>113 comments</td>\n",
       "      <td>22%</td>\n",
       "      <td>11%</td>\n",
       "      <td>25%</td>\n",
       "      <td>[\"Cute course, would recommend. Online modules...</td>\n",
       "    </tr>\n",
       "    <tr>\n",
       "      <th>1</th>\n",
       "      <td>MATH 135</td>\n",
       "      <td>Algebra for Honours Mathematics</td>\n",
       "      <td>1551</td>\n",
       "      <td>337 comments</td>\n",
       "      <td>84%</td>\n",
       "      <td>43%</td>\n",
       "      <td>78%</td>\n",
       "      <td>['No reviews']</td>\n",
       "    </tr>\n",
       "    <tr>\n",
       "      <th>2</th>\n",
       "      <td>ECON 101</td>\n",
       "      <td>Introduction to Microeconomics</td>\n",
       "      <td>1393</td>\n",
       "      <td>264 comments</td>\n",
       "      <td>63%</td>\n",
       "      <td>70%</td>\n",
       "      <td>45%</td>\n",
       "      <td>['No reviews']</td>\n",
       "    </tr>\n",
       "    <tr>\n",
       "      <th>3</th>\n",
       "      <td>PSYCH 101</td>\n",
       "      <td>Introductory Psychology</td>\n",
       "      <td>1081</td>\n",
       "      <td>229 comments</td>\n",
       "      <td>73%</td>\n",
       "      <td>66%</td>\n",
       "      <td>78%</td>\n",
       "      <td>[\"Super fun, engaging prof and the exams are l...</td>\n",
       "    </tr>\n",
       "    <tr>\n",
       "      <th>4</th>\n",
       "      <td>MATH 137</td>\n",
       "      <td>Calculus 1 for Honours Mathematics</td>\n",
       "      <td>1032</td>\n",
       "      <td>210 comments</td>\n",
       "      <td>84%</td>\n",
       "      <td>56%</td>\n",
       "      <td>68%</td>\n",
       "      <td>['The course itself is somewhat easy as a lot ...</td>\n",
       "    </tr>\n",
       "  </tbody>\n",
       "</table>\n",
       "</div>"
      ],
      "text/plain": [
       "  Course_Code                         Course_Name  Number_of_Ratings  \\\n",
       "0      CS 115  Introduction to Computer Science 1               2204   \n",
       "1    MATH 135     Algebra for Honours Mathematics               1551   \n",
       "2    ECON 101      Introduction to Microeconomics               1393   \n",
       "3   PSYCH 101             Introductory Psychology               1081   \n",
       "4    MATH 137  Calculus 1 for Honours Mathematics               1032   \n",
       "\n",
       "  Number_of_Comments Useful Easy Liked  \\\n",
       "0       113 comments    22%  11%   25%   \n",
       "1       337 comments    84%  43%   78%   \n",
       "2       264 comments    63%  70%   45%   \n",
       "3       229 comments    73%  66%   78%   \n",
       "4       210 comments    84%  56%   68%   \n",
       "\n",
       "                                      Course_Reviews  \n",
       "0  [\"Cute course, would recommend. Online modules...  \n",
       "1                                     ['No reviews']  \n",
       "2                                     ['No reviews']  \n",
       "3  [\"Super fun, engaging prof and the exams are l...  \n",
       "4  ['The course itself is somewhat easy as a lot ...  "
      ]
     },
     "execution_count": 8,
     "metadata": {},
     "output_type": "execute_result"
    }
   ],
   "source": [
    "course_df.head()"
   ]
  },
  {
   "cell_type": "markdown",
   "metadata": {},
   "source": [
    "We have 6 faculties in total. Health, Math, Arts, Engineering, Environment and Science. But how many unique course codes do we have?"
   ]
  },
  {
   "cell_type": "code",
   "execution_count": 18,
   "metadata": {},
   "outputs": [
    {
     "data": {
      "text/plain": [
       "188"
      ]
     },
     "execution_count": 18,
     "metadata": {},
     "output_type": "execute_result"
    }
   ],
   "source": [
    "codes = course_df['Course_Code'].copy()\n",
    "codes = codes.apply(lambda x: x.split(\" \")[0])\n",
    "codes.nunique()"
   ]
  },
  {
   "cell_type": "code",
   "execution_count": null,
   "metadata": {},
   "outputs": [],
   "source": [
    "Keys = [\"Math\", \"Engineering,\", \"Science\", \"Health\", \"Environment\", \"Arts\"]\n",
    "eng = [\"AE\", \"ARCH\", \"BME\", \"CHE\", \"CIVE\", \"CE\" , \"ECE\", \"ENVE\", \"GEOE\", \"GENE\", \"MSE\", \"ME\", \"MTE\", \"NE\", \"SE\", \"SYDE\"]\n",
    "math = [\"AFM\", \"ACTSC\", \"AMATH\", \"CO\", \"COMM\", \"CS\", \"CFM\", \"ECON\", \"PHYS\", \"PMATH\", \"STAT\"]\n",
    "sci = [\"AVIA\", \"BIOL\", \"CHEM\", \"COGSCI\", \"EARTH\", \"GERON\"]\n",
    "arts = [\"ANTH\", \"APPLS\", \"ARABIC\", \"ARTS\", \"ARBUS\", \"BLKST\", \"BASE\", \"BET\", \"BUS\", \"CDNST\", \"CHINA\", \"CMW\", \"CLAS\", \"COMMST\", \"CROAT\", \"CI\", \"DAC\", \"DUTCH\", \"EASIA\", \"ENGL\", \"EMLS\", \"FINE\", \"FR\",\n",
    "        \"GSJ\", \"GERMAN\", \"\"]\n",
    "env = [\"ENVS\", \"ENBUS\", \"ERS\", \"GEOG\"]\n",
    "coop = [\"COOP\", \"\"]"
   ]
  }
 ],
 "metadata": {
  "kernelspec": {
   "display_name": "Python 3",
   "language": "python",
   "name": "python3"
  },
  "language_info": {
   "codemirror_mode": {
    "name": "ipython",
    "version": 3
   },
   "file_extension": ".py",
   "mimetype": "text/x-python",
   "name": "python",
   "nbconvert_exporter": "python",
   "pygments_lexer": "ipython3",
   "version": "3.10.8"
  }
 },
 "nbformat": 4,
 "nbformat_minor": 2
}
