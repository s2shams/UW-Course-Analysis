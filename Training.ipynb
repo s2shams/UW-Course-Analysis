{
 "cells": [
  {
   "cell_type": "code",
   "execution_count": 1,
   "id": "59f940df-0c48-4cf3-90d8-76903ffa9e61",
   "metadata": {},
   "outputs": [],
   "source": [
    "from selenium import webdriver\n",
    "from selenium.webdriver.common.by import By\n",
    "from selenium.webdriver.common.action_chains import ActionChains\n",
    "from Helper_functions import *\n",
    "import pandas as pd"
   ]
  },
  {
   "cell_type": "code",
   "execution_count": null,
   "id": "39810a2f-6deb-4514-9b2c-e5fe75a5dbd4",
   "metadata": {},
   "outputs": [],
   "source": [
    "options = webdriver.ChromeOptions()\n",
    "adblocker_path = \"./adblock.crx\"\n",
    "options.add_extension(adblocker_path)\n",
    "options.binary_location = './chrome-win64/chrome.exe'\n",
    "driver = webdriver.Chrome(options=options)\n",
    "\n",
    "driver.get(\"https://www.ratemyprofessors.com/search/professors/1490?q=*\")\n",
    "wait_for_element(driver, '//div[@id=\"ad-header-leaderboard\"]')\n",
    "actions = ActionChains(driver)\n",
    "\n",
    "df = pd.DataFrame(columns = [\"Reviews\", \"Score\", \"Sentiment\"])\n",
    "\n",
    "while True:\n",
    "    more_profs = driver.find_elements(By.XPATH, \"//button[contains(text(), 'Show More')]\")\n",
    "    if more_profs:\n",
    "        driver.execute_script(\"arguments[0].click();\", more_profs[0])\n",
    "        time.sleep(1)\n",
    "    else:\n",
    "        break\n",
    "\n",
    "profs = driver.find_elements(By.XPATH, \"//a[contains(@class, 'TeacherCard')]\")\n",
    "for prof in profs:\n",
    "    try:\n",
    "        sentiment = []\n",
    "        link = prof.get_attribute('href')\n",
    "        driver.execute_script(f'window.open(\"{link}\", \"_blank\");')\n",
    "        driver.switch_to.window(driver.window_handles[1])\n",
    "        wait_for_element(driver, \"//canvas[@role='img']\")\n",
    "        while True:\n",
    "            more_ratings = driver.find_elements(By.XPATH, \"//button[contains(text(), 'Load More Ratings')]\")\n",
    "            if more_ratings:\n",
    "                driver.execute_script(\"arguments[0].click();\", more_ratings[0])\n",
    "                time.sleep(1)\n",
    "            else:\n",
    "                break\n",
    "        # print(\"hi\")\n",
    "        reviews_raw = driver.find_elements(By.XPATH, '//div[contains(@class, \"Comments__StyledComments\")]')\n",
    "        if reviews_raw:\n",
    "            reviews = [review.text for review in reviews_raw]\n",
    "            scores = [score.text for score in driver.find_elements(By.XPATH, '//div[contains(text(), \"Quality\")]/following-sibling::*[1][self::div[contains(@class, \"CardNumRating__CardNumRatingNumber-sc-17t4b9u-2\")]]')]\n",
    "        else:\n",
    "            reviews = [\"no reviews\"]\n",
    "            scores = [\"no scores\"]\n",
    "        for score in scores:\n",
    "            if score != \"no scores\":\n",
    "                if 3.5 < float(score) <= 5:\n",
    "                    sentiment.append(\"positive\")\n",
    "                elif 2.5 < float(score) <= 3.5:\n",
    "                    sentiment.append(\"neutral\")\n",
    "                else:\n",
    "                    sentiment.append(\"negative\")\n",
    "        # print(str(len(reviews)) + \", \" + str(len(scores)) + \", \" + str(len(sentiment)))\n",
    "        df2 = pd.DataFrame(data={\"Reviews\": reviews, \"Score\":scores, \"Sentiment\":sentiment})\n",
    "        df = pd.concat([df, df2], ignore_index = True)\n",
    "        df.to_csv(\"./training_data.csv\", index=False)\n",
    "        driver.close()\n",
    "        driver.switch_to.window(driver.window_handles[0])\n",
    "        time.sleep(3)\n",
    "    except Exception as e:\n",
    "        print(\"Exception caught: \" + str(e))\n",
    "            \n",
    "                \n",
    "            \n",
    "                    "
   ]
  },
  {
   "cell_type": "code",
   "execution_count": null,
   "id": "12af98ec-34ae-40e0-9fd0-1cd6d526c206",
   "metadata": {},
   "outputs": [],
   "source": []
  },
  {
   "cell_type": "code",
   "execution_count": null,
   "id": "e4e40352-6d12-40fa-b505-fbbc84fc0a5e",
   "metadata": {},
   "outputs": [],
   "source": []
  }
 ],
 "metadata": {
  "kernelspec": {
   "display_name": "Python 3 (ipykernel)",
   "language": "python",
   "name": "python3"
  },
  "language_info": {
   "codemirror_mode": {
    "name": "ipython",
    "version": 3
   },
   "file_extension": ".py",
   "mimetype": "text/x-python",
   "name": "python",
   "nbconvert_exporter": "python",
   "pygments_lexer": "ipython3",
   "version": "3.10.8"
  }
 },
 "nbformat": 4,
 "nbformat_minor": 5
}
